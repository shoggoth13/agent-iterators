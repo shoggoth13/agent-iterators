{
 "cells": [
  {
   "cell_type": "markdown",
   "id": "3b080df1-e300-43a8-8249-1551a30e2913",
   "metadata": {},
   "source": [
    "# ReAct Chat\n",
    "\n",
    "This agent uses ReAct to reason about what to do. Works with Chat Models.\n",
    "\n",
    "Logic \"deconstructed\" from LlamaIndex"
   ]
  },
  {
   "cell_type": "code",
   "execution_count": 1,
   "id": "ed0082ff-6801-48ad-a87e-03bf6afc4642",
   "metadata": {},
   "outputs": [],
   "source": [
    "# !pip install openai agents_deconstructed"
   ]
  },
  {
   "cell_type": "code",
   "execution_count": 10,
   "id": "f2cdb5a6-6d7e-4c9f-b8c5-a43cd3cd0dff",
   "metadata": {},
   "outputs": [],
   "source": [
    "from langchain.agents import tool\n",
    "from langchain.schema.agent import AgentFinish\n",
    "from langchain.callbacks.manager import (\n",
    "    trace_as_chain_group,\n",
    ")\n",
    "from langchain import hub\n",
    "from langchain.prompts import ChatPromptTemplate, MessagesPlaceholder\n",
    "from langchain.chat_models import ChatOpenAI"
   ]
  },
  {
   "cell_type": "code",
   "execution_count": 3,
   "id": "45b71716-ee57-4103-8eac-ff4b4db2f48e",
   "metadata": {},
   "outputs": [],
   "source": [
    "from agents_deconstructed import react_chat\n",
    "from agents_deconstructed.format_tools import format_tools_args"
   ]
  },
  {
   "cell_type": "code",
   "execution_count": 4,
   "id": "cb691a5d-1f4e-4432-87d1-807b7660fcef",
   "metadata": {},
   "outputs": [],
   "source": [
    "# Create a dummy tool\n",
    "@tool\n",
    "def run_code(query: str):\n",
    "    \"\"\"Input should be Python code. Use this to do math.\"\"\"\n",
    "    return eval(query)"
   ]
  },
  {
   "cell_type": "code",
   "execution_count": 19,
   "id": "765d17bf-0aa4-4d41-a534-8135d893cc80",
   "metadata": {},
   "outputs": [],
   "source": [
    "# Create our prompt, either directly or from hub\n",
    "prompt = ChatPromptTemplate.from_messages([\n",
    "    (\"system\", react_chat.REACT_AGENT_INSTRUCTIONS),\n",
    "    (\"user\", \"{question}\"),\n",
    "    MessagesPlaceholder(variable_name=\"intermediate_steps\"),\n",
    "])\n",
    "# Or call pull from hub!\n",
    "#prompt = hub.pull(\"shoggoth13/react-chat-agent\")"
   ]
  },
  {
   "cell_type": "code",
   "execution_count": 20,
   "id": "3c7f6f77-19b2-4238-b277-3bf6c0ae9e94",
   "metadata": {},
   "outputs": [],
   "source": [
    "tools = [run_code]"
   ]
  },
  {
   "cell_type": "code",
   "execution_count": 21,
   "id": "217f893a-1b70-4fb7-b54a-15a21514b5df",
   "metadata": {},
   "outputs": [],
   "source": [
    "prompt = prompt.partial(\n",
    "    tool_desc=format_tools_args(tools),\n",
    "    tool_names=\", \".join([tool.name for tool in tools])\n",
    ")"
   ]
  },
  {
   "cell_type": "code",
   "execution_count": 22,
   "id": "60eb89c1-0a62-4c2d-b2e3-b5cf3d4491bd",
   "metadata": {},
   "outputs": [],
   "source": [
    "agent = prompt | ChatOpenAI(temperature=0) | react_chat.ReActOutputParser()"
   ]
  },
  {
   "cell_type": "code",
   "execution_count": 23,
   "id": "1c400980-13c7-4098-b85c-58d6c3aeb452",
   "metadata": {},
   "outputs": [
    {
     "name": "stdout",
     "output_type": "stream",
     "text": [
      "[(AgentAction(tool='run_code', tool_input={'query': '2 + 2'}, log='I can use the `run_code` tool to perform the addition.'), 4)]\n"
     ]
    }
   ],
   "source": [
    "# Use this to group all traces together\n",
    "with trace_as_chain_group(\"agent-run\") as group_manager:\n",
    "    # Keep track of steps taken\n",
    "    steps = []\n",
    "    # Get the first response from the agent\n",
    "    action = agent.invoke({\n",
    "        \"question\": \"whats 2 + 2\",\n",
    "        \"intermediate_steps\": react_chat.format_steps(steps)\n",
    "    }, config={\"callbacks\": group_manager})\n",
    "\n",
    "    # While it's not finished, iterate\n",
    "    while not isinstance(action, AgentFinish):\n",
    "        # Select the tool to use\n",
    "        tool = {\n",
    "            \"run_code\": run_code,\n",
    "        }[action.tool]\n",
    "        # Run the tool\n",
    "        observation = tool.run(action.tool_input, callbacks=group_manager)\n",
    "        # Construct intermediate steps\n",
    "        steps += [(action, observation)]\n",
    "        # Log the steps\n",
    "        print(steps)\n",
    "        # Do the next iteration\n",
    "        action = agent.invoke({\n",
    "            \"question\": \"whats 2 + 2\",\n",
    "            \"intermediate_steps\": react_chat.format_steps(steps)\n",
    "        }, config={\"callbacks\": group_manager})"
   ]
  },
  {
   "cell_type": "code",
   "execution_count": 24,
   "id": "170434d9-c737-4906-8c9e-6ae65d1fcf40",
   "metadata": {},
   "outputs": [
    {
     "data": {
      "text/plain": [
       "AgentFinish(return_values={'output': '4'}, log='I can answer without using any more tools.')"
      ]
     },
     "execution_count": 24,
     "metadata": {},
     "output_type": "execute_result"
    }
   ],
   "source": [
    "action"
   ]
  },
  {
   "cell_type": "code",
   "execution_count": null,
   "id": "7bc5d6df-60a1-4010-b2a1-7bed2f7e1b41",
   "metadata": {},
   "outputs": [],
   "source": []
  }
 ],
 "metadata": {
  "kernelspec": {
   "display_name": "Python 3 (ipykernel)",
   "language": "python",
   "name": "python3"
  },
  "language_info": {
   "codemirror_mode": {
    "name": "ipython",
    "version": 3
   },
   "file_extension": ".py",
   "mimetype": "text/x-python",
   "name": "python",
   "nbconvert_exporter": "python",
   "pygments_lexer": "ipython3",
   "version": "3.10.2"
  }
 },
 "nbformat": 4,
 "nbformat_minor": 5
}
